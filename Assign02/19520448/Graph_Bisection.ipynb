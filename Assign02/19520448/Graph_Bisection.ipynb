{
  "cells": [
    {
      "cell_type": "code",
      "execution_count": 1,
      "metadata": {
        "id": "x9zP8r6nXJ2-"
      },
      "outputs": [],
      "source": [
        "import numpy as np\n",
        "import pandas as pd\n",
        "import matplotlib\n",
        "import matplotlib.pyplot as plt"
      ]
    },
    {
      "cell_type": "markdown",
      "metadata": {
        "id": "ckKniyr0YaGu"
      },
      "source": [
        "# LOAD DATA"
      ]
    },
    {
      "cell_type": "code",
      "execution_count": 2,
      "metadata": {
        "id": "b791usjsYe6O"
      },
      "outputs": [
        {
          "name": "stdout",
          "output_type": "stream",
          "text": [
            "   MRPS  Evaluations\n",
            "0    16         68.5\n",
            "1    20        116.9\n",
            "2    24        143.6\n",
            "3    22        143.6\n",
            "4    22        141.3\n"
          ]
        }
      ],
      "source": [
        "data_onemax_ux = pd.read_csv('./data/onemax_ux.csv')\n",
        "data_onemax_ux.columns = ['MRPS', 'Evaluations']\n",
        "print(data_onemax_ux[:5])"
      ]
    },
    {
      "cell_type": "code",
      "execution_count": 3,
      "metadata": {
        "id": "saw83NHRZCrv"
      },
      "outputs": [
        {
          "name": "stdout",
          "output_type": "stream",
          "text": [
            "   MRPS  Evaluations\n",
            "0    36        225.0\n",
            "1    30        193.2\n",
            "2    48        284.5\n",
            "3    30        193.2\n",
            "4    30        218.0\n"
          ]
        }
      ],
      "source": [
        "data_onemax_1x = pd.read_csv('./data/onemax_1x.csv')\n",
        "data_onemax_1x.columns = ['MRPS', 'Evaluations']\n",
        "print(data_onemax_1x[:5])"
      ]
    },
    {
      "cell_type": "code",
      "execution_count": 6,
      "metadata": {
        "id": "8HXG0jh7ZJql"
      },
      "outputs": [
        {
          "name": "stdout",
          "output_type": "stream",
          "text": [
            "   MRPS  Evaluations\n",
            "0   416       3879.1\n",
            "1   256       2459.2\n",
            "2   352       3742.8\n",
            "3   544       5451.0\n",
            "4   544       5505.5\n"
          ]
        }
      ],
      "source": [
        "data_trap_ux = pd.read_csv('./data/trap_ux.csv')\n",
        "data_trap_ux.columns = ['MRPS', 'Evaluations']\n",
        "print(data_trap_ux[:5])"
      ]
    },
    {
      "cell_type": "code",
      "execution_count": 7,
      "metadata": {
        "id": "hvup8pUKZM0N"
      },
      "outputs": [
        {
          "name": "stdout",
          "output_type": "stream",
          "text": [
            "   MRPS  Evaluations\n",
            "0   208       1589.4\n",
            "1   144        987.4\n",
            "2   104        778.0\n",
            "3   160       1045.0\n",
            "4   144       1055.9\n"
          ]
        }
      ],
      "source": [
        "data_trap_1x = pd.read_csv('./data/trap_1x.csv')\n",
        "data_trap_1x.columns = ['MRPS', 'Evaluations']\n",
        "print(data_trap_1x[:5])"
      ]
    },
    {
      "cell_type": "markdown",
      "metadata": {
        "id": "21STyIV9ZVFu"
      },
      "source": [
        "# MEAN OF MRPS AND EVALUATIONS"
      ]
    },
    {
      "cell_type": "code",
      "execution_count": 8,
      "metadata": {
        "id": "LV4LbZyLZcXd"
      },
      "outputs": [],
      "source": [
        "mrps_onemax_ux = np.array(data_onemax_ux['MRPS']).reshape((-1, 10))\n",
        "eval_onemax_ux = np.array(data_onemax_ux['Evaluations']).reshape((-1, 10))\n",
        "mean_mrps_onemax_ux = np.mean(mrps_onemax_ux, axis = 1)\n",
        "mean_eval_onemax_ux = np.mean(eval_onemax_ux, axis = 1)"
      ]
    },
    {
      "cell_type": "code",
      "execution_count": 9,
      "metadata": {
        "id": "U3hl8aYDauCz"
      },
      "outputs": [],
      "source": [
        "mrps_onemax_1x = np.array(data_onemax_1x['MRPS']).reshape((-1, 10))\n",
        "eval_onemax_1x = np.array(data_onemax_1x['Evaluations']).reshape((-1, 10))\n",
        "mean_mrps_onemax_1x = np.average(mrps_onemax_1x, axis = 1)\n",
        "mean_eval_onemax_1x = np.average(eval_onemax_1x, axis = 1)"
      ]
    },
    {
      "cell_type": "code",
      "execution_count": 10,
      "metadata": {
        "id": "uZZd9yeLa94e"
      },
      "outputs": [],
      "source": [
        "mrps_trap_ux = np.array(data_trap_ux['MRPS']).reshape((-1, 10))\n",
        "eval_trap_ux = np.array(data_trap_ux['Evaluations']).reshape((-1, 10))\n",
        "mean_mrps_trap_ux = np.average(mrps_trap_ux, axis = 1)\n",
        "mean_eval_trap_ux = np.average(eval_trap_ux, axis = 1)"
      ]
    },
    {
      "cell_type": "code",
      "execution_count": 11,
      "metadata": {
        "id": "T1hx0V2QbOuC"
      },
      "outputs": [],
      "source": [
        "mrps_trap_1x = np.array(data_trap_1x['MRPS']).reshape((-1,10))\n",
        "eval_trap_1x = np.array(data_trap_1x['Evaluations']).reshape((-1, 10))\n",
        "mean_mrps_trap_1x = np.mean(mrps_trap_1x, axis = 1)\n",
        "mean_eval_trap_1x = np.average(eval_trap_1x, axis = 1)"
      ]
    },
    {
      "cell_type": "code",
      "execution_count": 12,
      "metadata": {
        "id": "KvOjOD9VcZh2"
      },
      "outputs": [
        {
          "name": "stdout",
          "output_type": "stream",
          "text": [
            "[   259.11    803.79   3178.4   19059.27 122526.02] [ 128.86  312.4   776.78 1845.25 4541.02]\n",
            "[  951.89  3029.61 13246.68 79499.44] [ 3681.75 76454.02]\n",
            "[  40.8   80.8  199.2  800.  3302.4] [ 21.6  34.4  56.8  95.2 168. ]\n",
            "[ 131.2  272.   761.6 3020.8] [ 377.6 3865.6]\n"
          ]
        }
      ],
      "source": [
        "print(mean_eval_onemax_1x, mean_eval_onemax_ux)\n",
        "print(mean_eval_trap_1x, mean_eval_trap_ux)\n",
        "print(mean_mrps_onemax_1x, mean_mrps_onemax_ux)\n",
        "print(mean_mrps_trap_1x, mean_mrps_trap_ux)"
      ]
    },
    {
      "cell_type": "markdown",
      "metadata": {
        "id": "_JbXgR7SbfR_"
      },
      "source": [
        "# STANDARD DEVIATION OF ONEMAX"
      ]
    },
    {
      "cell_type": "code",
      "execution_count": 13,
      "metadata": {
        "id": "Rowb-rhVfUf0"
      },
      "outputs": [],
      "source": [
        "problem_size = np.array([10, 20, 40, 80, 160])"
      ]
    },
    {
      "cell_type": "code",
      "execution_count": 14,
      "metadata": {
        "id": "J6OKEOmWgMT6"
      },
      "outputs": [],
      "source": [
        "mean_mrps_onemax_1x = mean_mrps_onemax_1x.reshape((5,1))\n",
        "mean_mrps_onemax_ux = mean_mrps_onemax_ux.reshape((5,1))\n",
        "mean_eval_onemax_1x = mean_eval_onemax_1x.reshape((5,1))\n",
        "mean_eval_onemax_ux = mean_eval_onemax_ux.reshape((5,1))"
      ]
    },
    {
      "cell_type": "code",
      "execution_count": 15,
      "metadata": {
        "id": "uC9vmW8kb8rb"
      },
      "outputs": [
        {
          "name": "stdout",
          "output_type": "stream",
          "text": [
            "[[ 12.43]\n",
            " [  5.34]\n",
            " [ 17.75]\n",
            " [ 68.82]\n",
            " [165.54]]\n"
          ]
        }
      ],
      "source": [
        "#ONEMAX_1X\n",
        "std_mrps = np.subtract(mrps_onemax_1x, mean_mrps_onemax_1x)\n",
        "std_mrps = np.square(std_mrps)\n",
        "std_mrps = np.sum(std_mrps, axis = 1)\n",
        "std_mrps = np.divide(std_mrps, problem_size)\n",
        "std_mrps_onemax_1x = np.round(np.sqrt(std_mrps), 2).reshape((len(std_mrps), 1))\n",
        "print(std_mrps_onemax_1x)"
      ]
    },
    {
      "cell_type": "code",
      "execution_count": 16,
      "metadata": {
        "id": "NgrBOKyrg5gD"
      },
      "outputs": [
        {
          "name": "stdout",
          "output_type": "stream",
          "text": [
            "[[  78.18]\n",
            " [  53.87]\n",
            " [ 245.95]\n",
            " [1585.99]\n",
            " [6386.42]]\n"
          ]
        }
      ],
      "source": [
        "std_eval = np.subtract(eval_onemax_1x, mean_eval_onemax_1x)\n",
        "std_eval = np.square(std_eval)\n",
        "std_eval = np.sum(std_eval, axis = 1)\n",
        "std_eval = np.divide(std_eval, problem_size)\n",
        "std_eval_onemax_1x = np.round(np.sqrt(std_eval), 2).reshape((len(std_eval), 1))\n",
        "print(std_eval_onemax_1x)"
      ]
    },
    {
      "cell_type": "code",
      "execution_count": 17,
      "metadata": {
        "id": "FrlT_6Ede2N0"
      },
      "outputs": [
        {
          "name": "stdout",
          "output_type": "stream",
          "text": [
            "[[2.8 ]\n",
            " [3.09]\n",
            " [3.77]\n",
            " [2.95]\n",
            " [4.82]]\n"
          ]
        }
      ],
      "source": [
        "#ONEMAX_UX\n",
        "std_mrps = np.subtract(mrps_onemax_ux, mean_mrps_onemax_ux)\n",
        "std_mrps = np.square(std_mrps)\n",
        "std_mrps = np.sum(std_mrps, axis = 1)\n",
        "std_mrps = np.divide(std_mrps, problem_size)\n",
        "std_mrps_onemax_ux = np.round(np.sqrt(std_mrps), 2).reshape((len(std_mrps), 1))\n",
        "print(std_mrps_onemax_ux)"
      ]
    },
    {
      "cell_type": "code",
      "execution_count": 18,
      "metadata": {
        "id": "L8HVHzIjgXMJ"
      },
      "outputs": [
        {
          "name": "stdout",
          "output_type": "stream",
          "text": [
            "[[ 24.08]\n",
            " [ 33.26]\n",
            " [ 54.74]\n",
            " [ 63.79]\n",
            " [159.6 ]]\n"
          ]
        }
      ],
      "source": [
        "std_eval = np.subtract(eval_onemax_ux, mean_eval_onemax_ux)\n",
        "std_eval = np.square(std_eval)\n",
        "std_eval = np.sum(std_eval, axis = 1)\n",
        "std_eval = np.divide(std_eval, problem_size)\n",
        "std_eval_onemax_ux = np.round(np.sqrt(std_eval), 2).reshape((len(std_eval), 1))\n",
        "print(std_eval_onemax_ux)"
      ]
    },
    {
      "cell_type": "markdown",
      "metadata": {
        "id": "K9wX_jN9oma8"
      },
      "source": [
        "# STANDARD DEVIATION OF TRAP"
      ]
    },
    {
      "cell_type": "code",
      "execution_count": 19,
      "metadata": {
        "id": "bdQWgHuJoqha"
      },
      "outputs": [],
      "source": [
        "problem_size = np.array([10, 20, 40, 80, 160])"
      ]
    },
    {
      "cell_type": "code",
      "execution_count": 20,
      "metadata": {
        "id": "gIU1e_UGouFk"
      },
      "outputs": [],
      "source": [
        "mean_mrps_trap_1x = mean_mrps_trap_1x.reshape((len(mean_mrps_trap_1x),1))\n",
        "mean_mrps_trap_ux = mean_mrps_trap_ux.reshape((len(mean_mrps_trap_ux),1))\n",
        "mean_eval_trap_1x = mean_eval_trap_1x.reshape((len(mean_eval_trap_1x),1))\n",
        "mean_eval_trap_ux = mean_eval_trap_ux.reshape((len(mean_eval_trap_ux),1))"
      ]
    },
    {
      "cell_type": "code",
      "execution_count": 21,
      "metadata": {
        "id": "_hNkMjowo843"
      },
      "outputs": [
        {
          "name": "stdout",
          "output_type": "stream",
          "text": [
            "[[ 35.27]\n",
            " [ 42.63]\n",
            " [ 67.81]\n",
            " [276.91]]\n"
          ]
        }
      ],
      "source": [
        "#ONEMAX_1X\n",
        "std_mrps = np.subtract(mrps_trap_1x, mean_mrps_trap_1x)\n",
        "std_mrps = np.square(std_mrps)\n",
        "std_mrps = np.sum(std_mrps, axis = 1)\n",
        "std_mrps = np.divide(std_mrps, problem_size[0:len(std_mrps)])\n",
        "std_mrps_trap_1x = np.round(np.sqrt(std_mrps), 2).reshape((len(std_mrps), 1))\n",
        "print(std_mrps_trap_1x)"
      ]
    },
    {
      "cell_type": "code",
      "execution_count": 22,
      "metadata": {
        "id": "Ls2gwGu_pAAY"
      },
      "outputs": [
        {
          "name": "stdout",
          "output_type": "stream",
          "text": [
            "[[ 275.82]\n",
            " [ 505.81]\n",
            " [1291.31]\n",
            " [7840.31]]\n"
          ]
        }
      ],
      "source": [
        "std_eval = np.subtract(eval_trap_1x, mean_eval_trap_1x)\n",
        "std_eval = np.square(std_eval)\n",
        "std_eval = np.sum(std_eval, axis = 1)\n",
        "std_eval = np.divide(std_eval, problem_size[0:len(std_eval)])\n",
        "std_eval_trap_1x = np.round(np.sqrt(std_eval), 2).reshape((len(std_eval), 1))\n",
        "print(std_eval_trap_1x)"
      ]
    },
    {
      "cell_type": "code",
      "execution_count": 23,
      "metadata": {
        "id": "a55YEZmxpB8m"
      },
      "outputs": [
        {
          "name": "stdout",
          "output_type": "stream",
          "text": [
            "[[102.  ]\n",
            " [884.78]]\n"
          ]
        }
      ],
      "source": [
        "#ONEMAX_UX\n",
        "std_mrps = np.subtract(mrps_trap_ux, mean_mrps_trap_ux)\n",
        "std_mrps = np.square(std_mrps)\n",
        "std_mrps = np.sum(std_mrps, axis = 1)\n",
        "std_mrps = np.divide(std_mrps, problem_size[0:len(std_mrps)])\n",
        "std_mrps_trap_ux = np.round(np.sqrt(std_mrps), 2).reshape((len(std_mrps), 1))\n",
        "print(std_mrps_trap_ux)"
      ]
    },
    {
      "cell_type": "code",
      "execution_count": 24,
      "metadata": {
        "id": "2TrkaaKXpD9n"
      },
      "outputs": [
        {
          "name": "stdout",
          "output_type": "stream",
          "text": [
            "[[ 1144.2 ]\n",
            " [19530.07]]\n"
          ]
        }
      ],
      "source": [
        "std_eval = np.subtract(eval_trap_ux, mean_eval_trap_ux)\n",
        "std_eval = np.square(std_eval)\n",
        "std_eval = np.sum(std_eval, axis = 1)\n",
        "std_eval = np.divide(std_eval, problem_size[0:len(std_eval)])\n",
        "std_eval_trap_ux = np.round(np.sqrt(std_eval), 2).reshape((len(std_eval), 1))\n",
        "print(std_eval_trap_ux)"
      ]
    },
    {
      "cell_type": "markdown",
      "metadata": {
        "id": "tJCTZvJAqai1"
      },
      "source": [
        "# CONVERT TO CSV FILE"
      ]
    },
    {
      "cell_type": "code",
      "execution_count": 25,
      "metadata": {
        "id": "dqBY1FdTqaAU"
      },
      "outputs": [],
      "source": [
        "trap_ux_data = np.hstack((mean_mrps_trap_ux, std_mrps_trap_ux, mean_eval_trap_ux, std_eval_trap_ux))\n",
        "trap_ux_data = pd.DataFrame(trap_ux_data, columns=['mean_MRPS', 'std_MRPS', 'mean_Eval' ,'std_Eval'])\n",
        "trap_ux_data.to_csv(\"trap_ux_data.csv\")"
      ]
    },
    {
      "cell_type": "code",
      "execution_count": 26,
      "metadata": {
        "id": "L5LPesjOrVbz"
      },
      "outputs": [],
      "source": [
        "trap_1x_data = np.hstack((mean_mrps_trap_1x, std_mrps_trap_1x, mean_eval_trap_1x, std_eval_trap_1x))\n",
        "trap_1x_data = pd.DataFrame(trap_1x_data, columns=['mean_MRPS', 'std_MRPS', 'mean_Eval' ,'std_Eval'])\n",
        "trap_1x_data.to_csv(\"trap_1x_data.csv\")"
      ]
    },
    {
      "cell_type": "code",
      "execution_count": 27,
      "metadata": {
        "id": "l7EXOUdvrg9F"
      },
      "outputs": [],
      "source": [
        "onemax_ux_data = np.hstack((mean_mrps_onemax_ux, std_mrps_onemax_ux, mean_eval_onemax_ux, std_eval_onemax_ux))\n",
        "onemax_ux_data = pd.DataFrame(onemax_ux_data, columns=['mean_MRPS', 'std_MRPS', 'mean_Eval' ,'std_Eval'])\n",
        "onemax_ux_data.to_csv(\"onemax_ux_data.csv\")"
      ]
    },
    {
      "cell_type": "code",
      "execution_count": 28,
      "metadata": {
        "id": "V4Pwa9AYrisi"
      },
      "outputs": [],
      "source": [
        "onemax_1x_data = np.hstack((mean_mrps_onemax_1x, std_mrps_onemax_1x, mean_eval_onemax_1x, std_eval_onemax_1x))\n",
        "onemax_1x_data = pd.DataFrame(onemax_1x_data, columns=['mean_MRPS', 'std_MRPS', 'mean_Eval' ,'std_Eval'])\n",
        "onemax_1x_data.to_csv(\"onemax_1x_data.csv\")"
      ]
    },
    {
      "cell_type": "markdown",
      "metadata": {
        "id": "V-tCXjSSr7dO"
      },
      "source": [
        "# DRAW GRAPH FOR TRAP"
      ]
    },
    {
      "cell_type": "code",
      "execution_count": 71,
      "metadata": {
        "id": "84m1aSAvsqKK"
      },
      "outputs": [],
      "source": [
        "y = np.array([10, 20, 40, 80, 160])"
      ]
    },
    {
      "cell_type": "code",
      "execution_count": 73,
      "metadata": {
        "id": "qI5Fm2wDr_vI"
      },
      "outputs": [],
      "source": [
        "#MRPS_TRAP\n",
        "x1 = np.array(mean_mrps_trap_ux).ravel()\n",
        "x1_error = np.array(std_mrps_trap_ux).ravel()\n",
        "x2 = np.array(mean_mrps_trap_1x).ravel()\n",
        "x2_error = np.array(std_mrps_trap_1x).ravel()"
      ]
    },
    {
      "cell_type": "code",
      "execution_count": 78,
      "metadata": {
        "id": "FJO6G8sqsg85"
      },
      "outputs": [],
      "source": [
        "#EVAL_TRAP\n",
        "x1 = np.array(mean_eval_trap_ux).ravel()\n",
        "x1_error = np.array(std_eval_trap_ux).ravel()\n",
        "x2 = np.array(mean_eval_trap_1x).ravel()\n",
        "x2_error = np.array(std_eval_trap_1x).ravel()"
      ]
    },
    {
      "cell_type": "code",
      "execution_count": 79,
      "metadata": {
        "colab": {
          "base_uri": "https://localhost:8080/",
          "height": 368
        },
        "id": "nE-CWq4Cs2UL",
        "outputId": "62051bbe-06c6-4b16-cb46-bafbffbed6ae"
      },
      "outputs": [
        {
          "name": "stderr",
          "output_type": "stream",
          "text": [
            "/tmp/ipykernel_9802/2861075371.py:5: UserWarning: color is redundantly defined by the 'color' keyword argument and the fmt string \"bo-\" (-> color='b'). The keyword argument will take precedence.\n",
            "  axes.plot(y[0:len(x1)] , x1, \"bo-\", color = 'Blue', label = 'Eval ux')\n",
            "/tmp/ipykernel_9802/2861075371.py:7: UserWarning: color is redundantly defined by the 'color' keyword argument and the fmt string \"go-\" (-> color='g'). The keyword argument will take precedence.\n",
            "  axes.plot(y[0:len(x2)] , x2, \"go-\", color = 'Orange', label = 'Eval 1x')\n"
          ]
        },
        {
          "data": {
            "image/png": "[encoded data removed]",
            "text/plain": [
              "<Figure size 1000x500 with 1 Axes>"
            ]
          },
          "metadata": {},
          "output_type": "display_data"
        }
      ],
      "source": [
        "figure = plt.figure(figsize=(10,5))\n",
        "plt.rcParams[\"font.size\"] = 18\n",
        "\n",
        "axes = plt.subplot(111)\n",
        "axes.plot(y[0:len(x1)] , x1, \"bo-\", color = 'Blue', label = 'Eval ux')\n",
        "axes.fill_between(y[0:len(x1)], x1 + x1_error, x1 - x1_error, color = 'Blue', alpha = 0.2)\n",
        "axes.plot(y[0:len(x2)] , x2, \"go-\", color = 'Orange', label = 'Eval 1x')\n",
        "axes.fill_between(y[0:len(x2)], x2 + x2_error, x2 - x2_error, color = 'Orange', alpha = 0.2)\n",
        "\n",
        "axes.set_xscale('log', base = 2)\n",
        "axes.set_xticks([10, 20, 40, 80, 160])\n",
        "axes.get_xaxis().set_major_formatter(matplotlib.ticker.ScalarFormatter())\n",
        "axes.set_yscale('log', base = 2)\n",
        "axes.minorticks_on() \n",
        "axes.tick_params(axis=\"both\", which=\"major\",direction=\"in\",length=5,width=2,top=\"on\",right=\"on\")\n",
        "axes.tick_params(axis=\"both\", which=\"minor\",direction=\"in\",length=2,width=1,top=\"on\",right=\"on\")\n",
        "\n",
        "axes.set_title(\"Errorbar\")\n",
        "axes.set_xlabel(\"Problem Size\")\n",
        "axes.set_ylabel(\"Eval\")\n",
        "\n",
        "axes.grid()\n",
        "plt.legend(loc = 'best')\n",
        "plt.show()\n",
        "\n",
        "\n",
        "figure.savefig(\"Eval_Trap_UX_1X.jpg\",format=\"jpg\", dpi=300)"
      ]
    },
    {
      "cell_type": "markdown",
      "metadata": {
        "id": "KdpPF52Dt0ko"
      },
      "source": [
        "# DRAW GRAPH FOR ONEMAX"
      ]
    },
    {
      "cell_type": "code",
      "execution_count": 57,
      "metadata": {
        "id": "xAxmVWYHt4Wv"
      },
      "outputs": [],
      "source": [
        "y = np.array([10, 20, 40, 80, 160])"
      ]
    },
    {
      "cell_type": "code",
      "execution_count": 58,
      "metadata": {
        "id": "jKC0hcOot903"
      },
      "outputs": [],
      "source": [
        "#MRPS_ONEMAX\n",
        "x1 = np.array(mean_mrps_onemax_ux).ravel()\n",
        "x1_error = np.array(std_mrps_onemax_ux).ravel()\n",
        "x2 = np.array(mean_mrps_onemax_1x).ravel()\n",
        "x2_error = np.array(std_mrps_onemax_1x).ravel()"
      ]
    },
    {
      "cell_type": "code",
      "execution_count": 61,
      "metadata": {
        "id": "1uwy13oMt_aL"
      },
      "outputs": [],
      "source": [
        "#EVAL_ONEMAX\n",
        "x1 = np.array(mean_eval_onemax_ux).ravel()\n",
        "x1_error = np.array(std_eval_onemax_ux).ravel()\n",
        "x2 = np.array(mean_eval_onemax_1x).ravel()\n",
        "x2_error = np.array(std_eval_onemax_1x).ravel()"
      ]
    },
    {
      "cell_type": "code",
      "execution_count": 66,
      "metadata": {
        "id": "CFHzqLzmuBN0"
      },
      "outputs": [
        {
          "name": "stderr",
          "output_type": "stream",
          "text": [
            "/tmp/ipykernel_9802/1872557716.py:5: UserWarning: color is redundantly defined by the 'color' keyword argument and the fmt string \"bo-\" (-> color='b'). The keyword argument will take precedence.\n",
            "  axes.plot(y[0:len(x1)] , x1, \"bo-\", color = 'Blue', label = 'Eval 1x')\n",
            "/tmp/ipykernel_9802/1872557716.py:7: UserWarning: color is redundantly defined by the 'color' keyword argument and the fmt string \"go-\" (-> color='g'). The keyword argument will take precedence.\n",
            "  axes.plot(y[0:len(x2)] , x2, \"go-\", color = 'Orange', label = 'Eval ux')\n"
          ]
        },
        {
          "data": {
            "image/png": "[encoded data removed]",
            "text/plain": [
              "<Figure size 1000x500 with 1 Axes>"
            ]
          },
          "metadata": {},
          "output_type": "display_data"
        }
      ],
      "source": [
        "figure = plt.figure(figsize=(10,5))\n",
        "plt.rcParams[\"font.size\"] = 18\n",
        "\n",
        "axes = plt.subplot(111)\n",
        "axes.plot(y[0:len(x1)] , x1, \"bo-\", color = 'Blue', label = 'Eval ux')\n",
        "axes.fill_between(y[0:len(x1)], x1 + x1_error, x1 - x1_error, color = 'Blue', alpha = 0.2)\n",
        "axes.plot(y[0:len(x2)] , x2, \"go-\", color = 'Orange', label = 'Eval 1x')\n",
        "axes.fill_between(y[0:len(x2)], x2 + x2_error, x2 - x2_error, color = 'Orange', alpha = 0.2)\n",
        "\n",
        "axes.set_xscale('log', base=2)\n",
        "axes.set_xticks([10, 20, 40, 80, 160])\n",
        "axes.get_xaxis().set_major_formatter(matplotlib.ticker.ScalarFormatter())\n",
        "axes.set_yscale('log', base=2)\n",
        "axes.minorticks_on() \n",
        "axes.tick_params(axis=\"both\", which=\"major\",direction=\"in\",length=5,width=2,top=\"on\",right=\"on\")\n",
        "axes.tick_params(axis=\"both\", which=\"minor\",direction=\"in\",length=2,width=1,top=\"on\",right=\"on\")\n",
        "\n",
        "axes.set_title(\"Errorbar\")\n",
        "axes.set_xlabel(\"Problem Size\")\n",
        "axes.set_ylabel(\"Eval\")\n",
        "\n",
        "axes.grid()\n",
        "plt.legend(loc = 'best')\n",
        "plt.show()\n",
        "\n",
        "\n",
        "figure.savefig(\"Eval_Onemax_UX_1X.jpg\",format=\"jpg\", dpi=300)"
      ]
    }
  ],
  "metadata": {
    "colab": {
      "name": "Graph_Bisection",
      "provenance": []
    },
    "kernelspec": {
      "display_name": "Python 3.8.13 ('Twel')",
      "language": "python",
      "name": "python3"
    },
    "language_info": {
      "codemirror_mode": {
        "name": "ipython",
        "version": 3
      },
      "file_extension": ".py",
      "mimetype": "text/x-python",
      "name": "python",
      "nbconvert_exporter": "python",
      "pygments_lexer": "ipython3",
      "version": "3.8.13"
    },
    "vscode": {
      "interpreter": {
        "hash": "47ee033259087b5c6a7edea59d10c834c0ba783a682ea67deb408d3ce271a9f2"
      }
    }
  },
  "nbformat": 4,
  "nbformat_minor": 0
}
